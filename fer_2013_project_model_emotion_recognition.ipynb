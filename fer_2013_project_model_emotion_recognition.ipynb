{
  "nbformat": 4,
  "nbformat_minor": 0,
  "metadata": {
    "colab": {
      "provenance": []
    },
    "kernelspec": {
      "name": "python3",
      "display_name": "Python 3"
    },
    "language_info": {
      "name": "python"
    }
  },
  "cells": [
    {
      "cell_type": "code",
      "source": [
        "import zipfile\n",
        "\n",
        "\n",
        "fname = '/content/drive/MyDrive/fer2013_face_recognition_dataset.zip'\n",
        "zip_ref = zipfile.ZipFile(fname, \"r\")\n",
        "zip_ref.extractall()\n",
        "zip_ref.close()"
      ],
      "metadata": {
        "id": "kxk7ZQ-UZ9SE"
      },
      "execution_count": null,
      "outputs": []
    },
    {
      "cell_type": "code",
      "source": [
        "!wget https://raw.githubusercontent.com/mrdbourke/tensorflow-deep-learning/main/extras/helper_functions.py"
      ],
      "metadata": {
        "colab": {
          "base_uri": "https://localhost:8080/"
        },
        "id": "nOrbFwWeaJOx",
        "outputId": "22060e2e-2d7b-4d69-f30c-5f7d3cd8cb8f"
      },
      "execution_count": null,
      "outputs": [
        {
          "output_type": "stream",
          "name": "stdout",
          "text": [
            "--2022-10-05 15:04:28--  https://raw.githubusercontent.com/mrdbourke/tensorflow-deep-learning/main/extras/helper_functions.py\n",
            "Resolving raw.githubusercontent.com (raw.githubusercontent.com)... 185.199.108.133, 185.199.110.133, 185.199.109.133, ...\n",
            "Connecting to raw.githubusercontent.com (raw.githubusercontent.com)|185.199.108.133|:443... connected.\n",
            "HTTP request sent, awaiting response... 200 OK\n",
            "Length: 10246 (10K) [text/plain]\n",
            "Saving to: ‘helper_functions.py.1’\n",
            "\n",
            "\rhelper_functions.py   0%[                    ]       0  --.-KB/s               \rhelper_functions.py 100%[===================>]  10.01K  --.-KB/s    in 0s      \n",
            "\n",
            "2022-10-05 15:04:28 (70.3 MB/s) - ‘helper_functions.py.1’ saved [10246/10246]\n",
            "\n"
          ]
        }
      ]
    },
    {
      "cell_type": "code",
      "source": [
        "label_to_text = {0:'angry', 1:'disgust', 2:'fear', 3:'happy',4:'neutral', 5:'sad,', 6: 'surprise'}\n",
        "class_names=['angry','disgust','fear','happy','neutral','sad','surprise']\n"
      ],
      "metadata": {
        "id": "DJ4Gj2DHiDNe"
      },
      "execution_count": null,
      "outputs": []
    },
    {
      "cell_type": "code",
      "source": [
        "from helper_functions import create_tensorboard_callback,compare_historys,make_confusion_matrix"
      ],
      "metadata": {
        "id": "glh3khPIbns4"
      },
      "execution_count": null,
      "outputs": []
    },
    {
      "cell_type": "code",
      "source": [
        "train_dir=\"/content/train\"\n",
        "test_dir='/content/test'"
      ],
      "metadata": {
        "id": "QTgI7Jjkb52h"
      },
      "execution_count": null,
      "outputs": []
    },
    {
      "cell_type": "code",
      "source": [
        " import tensorflow as tf\n",
        " train_data = tf.keras.preprocessing.image_dataset_from_directory(directory=train_dir,\n",
        "                                           batch_size=32,\n",
        "                                           image_size=(48,48),\n",
        "                                           class_names=class_names,\n",
        "                                           shuffle=True,\n",
        "                                           seed=42)\n",
        "\n",
        "test_data = tf.keras.preprocessing.image_dataset_from_directory(directory=test_dir,\n",
        "                                           batch_size=32,\n",
        "                                           image_size=(48,48),\n",
        "                                           class_names=class_names,\n",
        "                                           shuffle=True,\n",
        "                                           seed=42)"
      ],
      "metadata": {
        "colab": {
          "base_uri": "https://localhost:8080/"
        },
        "id": "THPrRhRs3EiT",
        "outputId": "46e94c89-9e9c-4139-b2f6-2d0d03a827a4"
      },
      "execution_count": null,
      "outputs": [
        {
          "output_type": "stream",
          "name": "stdout",
          "text": [
            "Found 28709 files belonging to 7 classes.\n",
            "Found 7178 files belonging to 7 classes.\n"
          ]
        }
      ]
    },
    {
      "cell_type": "code",
      "source": [
        "import os\n",
        "from helper_functions import walk_through_dir\n",
        "walk_through_dir(train_dir)\n",
        "walk_through_dir(test_dir)"
      ],
      "metadata": {
        "colab": {
          "base_uri": "https://localhost:8080/"
        },
        "id": "6cFCjLbFdc0X",
        "outputId": "b33f5328-cc22-4645-eca7-df6fce7d5644"
      },
      "execution_count": null,
      "outputs": [
        {
          "output_type": "stream",
          "name": "stdout",
          "text": [
            "There are 7 directories and 0 images in '/content/train'.\n",
            "There are 0 directories and 3171 images in '/content/train/surprise'.\n",
            "There are 0 directories and 7215 images in '/content/train/happy'.\n",
            "There are 0 directories and 4965 images in '/content/train/neutral'.\n",
            "There are 0 directories and 3995 images in '/content/train/angry'.\n",
            "There are 0 directories and 4097 images in '/content/train/fear'.\n",
            "There are 0 directories and 4830 images in '/content/train/sad'.\n",
            "There are 0 directories and 436 images in '/content/train/disgust'.\n",
            "There are 7 directories and 0 images in '/content/test'.\n",
            "There are 0 directories and 831 images in '/content/test/surprise'.\n",
            "There are 0 directories and 1774 images in '/content/test/happy'.\n",
            "There are 0 directories and 1233 images in '/content/test/neutral'.\n",
            "There are 0 directories and 958 images in '/content/test/angry'.\n",
            "There are 0 directories and 1024 images in '/content/test/fear'.\n",
            "There are 0 directories and 1247 images in '/content/test/sad'.\n",
            "There are 0 directories and 111 images in '/content/test/disgust'.\n"
          ]
        }
      ]
    },
    {
      "cell_type": "code",
      "source": [
        "import matplotlib.pyplot as plt\n",
        "import matplotlib.image as mpimg"
      ],
      "metadata": {
        "id": "vddzxE7wfMJf"
      },
      "execution_count": null,
      "outputs": []
    },
    {
      "cell_type": "code",
      "source": [
        "train_angry='/content/train/angry'"
      ],
      "metadata": {
        "id": "oP0mOXvDlGmG"
      },
      "execution_count": null,
      "outputs": []
    },
    {
      "cell_type": "code",
      "source": [
        "img=mpimg.imread('/content/train/surprise/Training_10275630.jpg')\n",
        "plt.imshow(img)\n",
        "plt.plot()"
      ],
      "metadata": {
        "colab": {
          "base_uri": "https://localhost:8080/",
          "height": 285
        },
        "id": "c38iPBKWmlfI",
        "outputId": "89b7cb42-b40e-420a-a268-5abb26ba8028"
      },
      "execution_count": null,
      "outputs": [
        {
          "output_type": "execute_result",
          "data": {
            "text/plain": [
              "[]"
            ]
          },
          "metadata": {},
          "execution_count": 10
        },
        {
          "output_type": "display_data",
          "data": {
            "text/plain": [
              "<Figure size 432x288 with 1 Axes>"
            ],
            "image/png": "[encoded data removed]"
          },
          "metadata": {
            "needs_background": "light"
          }
        }
      ]
    },
    {
      "cell_type": "code",
      "source": [
        "img.shape\n",
        "img.dtype"
      ],
      "metadata": {
        "colab": {
          "base_uri": "https://localhost:8080/"
        },
        "id": "5pUtwvOHvd7L",
        "outputId": "660a7eae-eca2-45e7-8cec-58957a5dcaa6"
      },
      "execution_count": null,
      "outputs": [
        {
          "output_type": "execute_result",
          "data": {
            "text/plain": [
              "dtype('uint8')"
            ]
          },
          "metadata": {},
          "execution_count": 11
        }
      ]
    },
    {
      "cell_type": "code",
      "source": [
        "import tensorflow as tf\n",
        "img_size=48\n",
        "def preprocess_image(image):\n",
        "  return tf.cast(img,tf.float32)"
      ],
      "metadata": {
        "id": "DGZhSwnYv4Wo"
      },
      "execution_count": null,
      "outputs": []
    },
    {
      "cell_type": "code",
      "source": [
        "preprocessed_image=preprocess_image(img)"
      ],
      "metadata": {
        "id": "_tf-sCUPw2Eb"
      },
      "execution_count": null,
      "outputs": []
    },
    {
      "cell_type": "code",
      "source": [
        "preprocessed_image"
      ],
      "metadata": {
        "colab": {
          "base_uri": "https://localhost:8080/"
        },
        "id": "DeHoLE75xxY1",
        "outputId": "55157c41-fa95-4818-bd7f-6c6a3111e49f"
      },
      "execution_count": null,
      "outputs": [
        {
          "output_type": "execute_result",
          "data": {
            "text/plain": [
              "<tf.Tensor: shape=(48, 48), dtype=float32, numpy=\n",
              "array([[ 50.,  51.,  51., ...,  16.,  15.,  15.],\n",
              "       [ 50.,  46.,  49., ...,  18.,  17.,  17.],\n",
              "       [ 49.,  49.,  47., ...,  20.,  19.,  18.],\n",
              "       ...,\n",
              "       [168., 190.,  91., ..., 115., 149., 186.],\n",
              "       [210., 141., 166., ..., 146., 121., 182.],\n",
              "       [224., 156., 112., ..., 192., 119., 163.]], dtype=float32)>"
            ]
          },
          "metadata": {},
          "execution_count": 14
        }
      ]
    },
    {
      "cell_type": "code",
      "source": [
        "from helper_functions import create_tensorboard_callback\n",
        "\n",
        "checkpoint_path = \"model_checkpoints/cp.ckpt\" \n",
        "model_checkpoint = tf.keras.callbacks.ModelCheckpoint(checkpoint_path,\n",
        "                                                      monitor=\"val_accuracy\", \n",
        "                                                      save_best_only=True, \n",
        "                                                      save_weights_only=True, \n",
        "                                                      verbose=0)"
      ],
      "metadata": {
        "id": "bIrnkftiyMR0"
      },
      "execution_count": null,
      "outputs": []
    },
    {
      "cell_type": "code",
      "source": [
        "from tensorflow.keras import layers\n",
        "base_model=tf.keras.applications.EfficientNetB0(include_top=False)\n",
        "input_shape=(48,48,3)\n",
        "\n",
        "\n",
        "inputs=layers.Input(input_shape,name='input_layer')\n",
        "x=base_model(inputs,training=False)\n",
        "x=layers.GlobalAveragePooling2D(name='pooling_layer')(x)\n",
        "x=layers.Dense(len(class_names))(x)\n",
        "outputs = layers.Activation(\"softmax\", dtype=tf.float32, name=\"softmax_float32\")(x) \n",
        "model = tf.keras.Model(inputs, outputs)\n",
        "\n",
        "model.compile(loss=\"sparse_categorical_crossentropy\", # Use sparse_categorical_crossentropy when labels are *not* one-hot\n",
        "              optimizer=tf.keras.optimizers.Adam(),\n",
        "              metrics=[\"accuracy\"])"
      ],
      "metadata": {
        "id": "HnXAsCIzyYmp"
      },
      "execution_count": null,
      "outputs": []
    },
    {
      "cell_type": "code",
      "source": [
        "model.summary()"
      ],
      "metadata": {
        "colab": {
          "base_uri": "https://localhost:8080/"
        },
        "id": "ThdRpv9lyvII",
        "outputId": "2a5b04d1-5a84-46ec-d6ee-6c81081ff068"
      },
      "execution_count": null,
      "outputs": [
        {
          "output_type": "stream",
          "name": "stdout",
          "text": [
            "Model: \"model\"\n",
            "_________________________________________________________________\n",
            " Layer (type)                Output Shape              Param #   \n",
            "=================================================================\n",
            " input_layer (InputLayer)    [(None, 48, 48, 3)]       0         \n",
            "                                                                 \n",
            " efficientnetb0 (Functional)  (None, None, None, 1280)  4049571  \n",
            "                                                                 \n",
            " pooling_layer (GlobalAverag  (None, 1280)             0         \n",
            " ePooling2D)                                                     \n",
            "                                                                 \n",
            " dense (Dense)               (None, 7)                 8967      \n",
            "                                                                 \n",
            " softmax_float32 (Activation  (None, 7)                0         \n",
            " )                                                               \n",
            "                                                                 \n",
            "=================================================================\n",
            "Total params: 4,058,538\n",
            "Trainable params: 4,016,515\n",
            "Non-trainable params: 42,023\n",
            "_________________________________________________________________\n"
          ]
        }
      ]
    },
    {
      "cell_type": "code",
      "source": [
        "for layer in model.layers:\n",
        "  print(f'{layer.name} {layer.trainable} {layer.dtype}  {layer.dtype_policy}')"
      ],
      "metadata": {
        "colab": {
          "base_uri": "https://localhost:8080/"
        },
        "id": "TYtc--zm0hW1",
        "outputId": "2e5183c3-9b51-4f29-c748-660228bc4f7e"
      },
      "execution_count": null,
      "outputs": [
        {
          "output_type": "stream",
          "name": "stdout",
          "text": [
            "input_layer True float32  <Policy \"float32\">\n",
            "efficientnetb0 True float32  <Policy \"float32\">\n",
            "pooling_layer True float32  <Policy \"float32\">\n",
            "dense True float32  <Policy \"float32\">\n",
            "softmax_float32 True float32  <Policy \"float32\">\n"
          ]
        }
      ]
    },
    {
      "cell_type": "code",
      "source": [
        "train_data"
      ],
      "metadata": {
        "colab": {
          "base_uri": "https://localhost:8080/"
        },
        "id": "S8oPJ2MY40BQ",
        "outputId": "87d190e7-317b-4075-81d1-5a9b2e9251f5"
      },
      "execution_count": null,
      "outputs": [
        {
          "output_type": "execute_result",
          "data": {
            "text/plain": [
              "<BatchDataset element_spec=(TensorSpec(shape=(None, 48, 48, 3), dtype=tf.float32, name=None), TensorSpec(shape=(None,), dtype=tf.int32, name=None))>"
            ]
          },
          "metadata": {},
          "execution_count": 19
        }
      ]
    },
    {
      "cell_type": "code",
      "source": [
        "history_fer2013 =                          model.fit(train_data, \n",
        "                                                     epochs=3,\n",
        "                                                     steps_per_epoch=len(train_data),\n",
        "                                                     validation_data=test_data,\n",
        "                                                     validation_steps=int(0.15 * len(test_data)),\n",
        "                                                     callbacks=[create_tensorboard_callback(\"training_logs\", \n",
        "                                                                                            \"efficientnetb0_101_classes_all_data_feature_extract\"),\n",
        "                                                                model_checkpoint])"
      ],
      "metadata": {
        "colab": {
          "base_uri": "https://localhost:8080/"
        },
        "id": "cuGFJsfs0zBP",
        "outputId": "5c822e0c-b635-4782-f409-f9e631fc0f53"
      },
      "execution_count": null,
      "outputs": [
        {
          "output_type": "stream",
          "name": "stdout",
          "text": [
            "Saving TensorBoard log files to: training_logs/efficientnetb0_101_classes_all_data_feature_extract/20221005-150438\n",
            "Epoch 1/3\n",
            "898/898 [==============================] - 476s 518ms/step - loss: 1.6844 - accuracy: 0.3207 - val_loss: 1.4985 - val_accuracy: 0.4025\n",
            "Epoch 2/3\n",
            "898/898 [==============================] - 425s 474ms/step - loss: 1.3972 - accuracy: 0.4403 - val_loss: 1.4347 - val_accuracy: 0.4309\n",
            "Epoch 3/3\n",
            "898/898 [==============================] - 430s 479ms/step - loss: 1.3078 - accuracy: 0.4876 - val_loss: 1.3705 - val_accuracy: 0.4915\n"
          ]
        }
      ]
    },
    {
      "cell_type": "code",
      "source": [
        "tf.random.set_seed(42)\n",
        "history_fer2013 =                          model.fit(train_data, \n",
        "                                                     epochs=5,\n",
        "                                                     steps_per_epoch=len(train_data),\n",
        "                                                     validation_data=test_data,\n",
        "                                                     validation_steps=int(0.15 * len(test_data)),\n",
        "                                                     callbacks=[create_tensorboard_callback(\"training_logs\", \n",
        "                                                                                            \"efficientnetb0_101_classes_all_data_feature_extract\"),\n",
        "                                                                model_checkpoint])"
      ],
      "metadata": {
        "colab": {
          "base_uri": "https://localhost:8080/"
        },
        "id": "bBQN70ep1PP0",
        "outputId": "fa2bfb20-cbed-4a45-9542-dda2fbfb7e64"
      },
      "execution_count": null,
      "outputs": [
        {
          "output_type": "stream",
          "name": "stdout",
          "text": [
            "Saving TensorBoard log files to: training_logs/efficientnetb0_101_classes_all_data_feature_extract/20221005-171109\n",
            "Epoch 1/5\n",
            "898/898 [==============================] - 443s 483ms/step - loss: 1.1987 - accuracy: 0.5407 - val_loss: 1.2790 - val_accuracy: 0.5095\n",
            "Epoch 2/5\n",
            "898/898 [==============================] - 426s 474ms/step - loss: 1.1243 - accuracy: 0.5719 - val_loss: 1.2805 - val_accuracy: 0.5152\n",
            "Epoch 3/5\n",
            "898/898 [==============================] - 424s 472ms/step - loss: 1.0646 - accuracy: 0.5986 - val_loss: 1.2880 - val_accuracy: 0.5312\n",
            "Epoch 4/5\n",
            "898/898 [==============================] - 426s 474ms/step - loss: 1.0423 - accuracy: 0.6095 - val_loss: 1.2745 - val_accuracy: 0.5398\n",
            "Epoch 5/5\n",
            "898/898 [==============================] - 422s 470ms/step - loss: 0.9997 - accuracy: 0.6251 - val_loss: 1.2706 - val_accuracy: 0.5275\n"
          ]
        }
      ]
    },
    {
      "cell_type": "code",
      "source": [
        "from keras.preprocessing.image import ImageDataGenerator\n",
        "from keras.models import Sequential\n",
        "from keras.layers import Dense,Dropout,Flatten\n",
        "from keras.layers import Conv2D,MaxPooling2D\n",
        "import os\n",
        "from matplotlib import pyplot as plt\n",
        "import numpy as np\n"
      ],
      "metadata": {
        "id": "uBjaa8Oy5tCw"
      },
      "execution_count": null,
      "outputs": []
    },
    {
      "cell_type": "code",
      "source": [
        "input_shape"
      ],
      "metadata": {
        "colab": {
          "base_uri": "https://localhost:8080/"
        },
        "id": "Lgk2YyMP6bEH",
        "outputId": "2029b3bc-6a42-42a1-f304-61e50f65fdaa"
      },
      "execution_count": null,
      "outputs": [
        {
          "output_type": "execute_result",
          "data": {
            "text/plain": [
              "(48, 48, 3)"
            ]
          },
          "metadata": {},
          "execution_count": 24
        }
      ]
    },
    {
      "cell_type": "code",
      "source": [
        "tf.random.set_seed(42)\n",
        "model_2 = Sequential()\n",
        "\n",
        "model_2.add(Conv2D(32, kernel_size=(3, 3), activation='relu', input_shape=input_shape))\n",
        "\n",
        "model_2.add(Conv2D(64, kernel_size=(3, 3), activation='relu'))\n",
        "model_2.add(MaxPooling2D(pool_size=(2, 2)))\n",
        "model_2.add(Dropout(0.1))\n",
        "\n",
        "model_2.add(Conv2D(128, kernel_size=(3, 3), activation='relu'))\n",
        "model_2.add(MaxPooling2D(pool_size=(2, 2)))\n",
        "model_2.add(Dropout(0.1))\n",
        "\n",
        "model_2.add(Conv2D(256, kernel_size=(3, 3), activation='relu'))\n",
        "model_2.add(MaxPooling2D(pool_size=(2, 2)))\n",
        "model_2.add(Dropout(0.1))\n",
        "\n",
        "model_2.add(Flatten())\n",
        "model_2.add(Dense(512, activation='relu'))\n",
        "model_2.add(Dropout(0.2))\n",
        "\n",
        "model_2.add(Dense(7, activation='softmax'))\n",
        "\n",
        "model_2.compile(optimizer = 'adam', loss=tf.keras.losses.SparseCategoricalCrossentropy(), metrics=['accuracy'])\n",
        "print(model_2.summary())\n"
      ],
      "metadata": {
        "colab": {
          "base_uri": "https://localhost:8080/"
        },
        "id": "5B5vGhcEoE36",
        "outputId": "5704f908-222f-4b0f-d7d3-49e4d4a4152a"
      },
      "execution_count": null,
      "outputs": [
        {
          "output_type": "stream",
          "name": "stdout",
          "text": [
            "Model: \"sequential\"\n",
            "_________________________________________________________________\n",
            " Layer (type)                Output Shape              Param #   \n",
            "=================================================================\n",
            " conv2d (Conv2D)             (None, 46, 46, 32)        896       \n",
            "                                                                 \n",
            " conv2d_1 (Conv2D)           (None, 44, 44, 64)        18496     \n",
            "                                                                 \n",
            " max_pooling2d (MaxPooling2D  (None, 22, 22, 64)       0         \n",
            " )                                                               \n",
            "                                                                 \n",
            " dropout (Dropout)           (None, 22, 22, 64)        0         \n",
            "                                                                 \n",
            " conv2d_2 (Conv2D)           (None, 20, 20, 128)       73856     \n",
            "                                                                 \n",
            " max_pooling2d_1 (MaxPooling  (None, 10, 10, 128)      0         \n",
            " 2D)                                                             \n",
            "                                                                 \n",
            " dropout_1 (Dropout)         (None, 10, 10, 128)       0         \n",
            "                                                                 \n",
            " conv2d_3 (Conv2D)           (None, 8, 8, 256)         295168    \n",
            "                                                                 \n",
            " max_pooling2d_2 (MaxPooling  (None, 4, 4, 256)        0         \n",
            " 2D)                                                             \n",
            "                                                                 \n",
            " dropout_2 (Dropout)         (None, 4, 4, 256)         0         \n",
            "                                                                 \n",
            " flatten (Flatten)           (None, 4096)              0         \n",
            "                                                                 \n",
            " dense_1 (Dense)             (None, 512)               2097664   \n",
            "                                                                 \n",
            " dropout_3 (Dropout)         (None, 512)               0         \n",
            "                                                                 \n",
            " dense_2 (Dense)             (None, 7)                 3591      \n",
            "                                                                 \n",
            "=================================================================\n",
            "Total params: 2,489,671\n",
            "Trainable params: 2,489,671\n",
            "Non-trainable params: 0\n",
            "_________________________________________________________________\n",
            "None\n"
          ]
        }
      ]
    },
    {
      "cell_type": "code",
      "source": [
        "model.summary()"
      ],
      "metadata": {
        "colab": {
          "base_uri": "https://localhost:8080/"
        },
        "id": "BzATPjON6tw6",
        "outputId": "35afb608-f7b3-4f1a-eae7-311ec1952322"
      },
      "execution_count": null,
      "outputs": [
        {
          "output_type": "stream",
          "name": "stdout",
          "text": [
            "Model: \"model\"\n",
            "_________________________________________________________________\n",
            " Layer (type)                Output Shape              Param #   \n",
            "=================================================================\n",
            " input_layer (InputLayer)    [(None, 48, 48, 3)]       0         \n",
            "                                                                 \n",
            " efficientnetb0 (Functional)  (None, None, None, 1280)  4049571  \n",
            "                                                                 \n",
            " pooling_layer (GlobalAverag  (None, 1280)             0         \n",
            " ePooling2D)                                                     \n",
            "                                                                 \n",
            " dense (Dense)               (None, 7)                 8967      \n",
            "                                                                 \n",
            " softmax_float32 (Activation  (None, 7)                0         \n",
            " )                                                               \n",
            "                                                                 \n",
            "=================================================================\n",
            "Total params: 4,058,538\n",
            "Trainable params: 4,016,515\n",
            "Non-trainable params: 42,023\n",
            "_________________________________________________________________\n"
          ]
        }
      ]
    },
    {
      "cell_type": "code",
      "source": [
        "tf.random.set_seed(42)\n",
        "history_fer2013_02 =                      model_2.fit(train_data, \n",
        "                                                     epochs=5,\n",
        "                                                     steps_per_epoch=len(train_data),\n",
        "                                                     validation_data=test_data,\n",
        "                                                     validation_steps=int(0.15 * len(test_data)),\n",
        "                                                     callbacks=[create_tensorboard_callback(\"training_logs\", \n",
        "                                                                                            \"efficientnetb0_101_classes_all_data_feature_extract\"),\n",
        "                                                                model_checkpoint])"
      ],
      "metadata": {
        "colab": {
          "base_uri": "https://localhost:8080/"
        },
        "id": "_mlSjHy-55VX",
        "outputId": "1de9d8b1-eca6-4e59-817e-06d40b0cf78b"
      },
      "execution_count": null,
      "outputs": [
        {
          "output_type": "stream",
          "name": "stdout",
          "text": [
            "Saving TensorBoard log files to: training_logs/efficientnetb0_101_classes_all_data_feature_extract/20221005-175105\n",
            "Epoch 1/5\n",
            "898/898 [==============================] - 451s 502ms/step - loss: 1.6286 - accuracy: 0.3567 - val_loss: 1.5158 - val_accuracy: 0.4167\n",
            "Epoch 2/5\n",
            "898/898 [==============================] - 443s 494ms/step - loss: 1.4607 - accuracy: 0.4402 - val_loss: 1.3756 - val_accuracy: 0.4706\n",
            "Epoch 3/5\n",
            "898/898 [==============================] - 444s 495ms/step - loss: 1.3455 - accuracy: 0.4842 - val_loss: 1.2800 - val_accuracy: 0.5189\n",
            "Epoch 4/5\n",
            "898/898 [==============================] - 444s 494ms/step - loss: 1.2774 - accuracy: 0.5131 - val_loss: 1.2629 - val_accuracy: 0.5076\n",
            "Epoch 5/5\n",
            "898/898 [==============================] - 444s 494ms/step - loss: 1.2301 - accuracy: 0.5320 - val_loss: 1.2374 - val_accuracy: 0.5331\n"
          ]
        }
      ]
    },
    {
      "cell_type": "code",
      "source": [
        "model_2.save('model_2.h5')"
      ],
      "metadata": {
        "id": "p2u9xvGA6PSb"
      },
      "execution_count": null,
      "outputs": []
    },
    {
      "cell_type": "code",
      "source": [
        "loaded_model_2 = tf.keras.models.load_model(\"model_2.h5\")"
      ],
      "metadata": {
        "id": "QduAQUmhEGtE"
      },
      "execution_count": null,
      "outputs": []
    },
    {
      "cell_type": "code",
      "source": [
        "loaded_model_2.evaluate(test_data)"
      ],
      "metadata": {
        "colab": {
          "base_uri": "https://localhost:8080/"
        },
        "id": "7_aMlJYTENvh",
        "outputId": "51796adb-bc66-4d02-a686-3cf546099607"
      },
      "execution_count": null,
      "outputs": [
        {
          "output_type": "stream",
          "name": "stdout",
          "text": [
            "225/225 [==============================] - 29s 127ms/step - loss: 1.2145 - accuracy: 0.5382\n"
          ]
        },
        {
          "output_type": "execute_result",
          "data": {
            "text/plain": [
              "[1.2144746780395508, 0.53817218542099]"
            ]
          },
          "metadata": {},
          "execution_count": 33
        }
      ]
    },
    {
      "cell_type": "code",
      "source": [
        "model_2.save(\"model_2_SavedModel_format\")"
      ],
      "metadata": {
        "id": "TyJoqp8WEU5h"
      },
      "execution_count": null,
      "outputs": []
    },
    {
      "cell_type": "code",
      "source": [
        "\n",
        "\n",
        "loaded_model_2_SavedModel = tf.keras.models.load_model(\"model_2_SavedModel_format\")"
      ],
      "metadata": {
        "id": "P_5oH1ioElwT"
      },
      "execution_count": null,
      "outputs": []
    },
    {
      "cell_type": "code",
      "source": [
        "loaded_model_2_SavedModel.evaluate(test_data)"
      ],
      "metadata": {
        "colab": {
          "base_uri": "https://localhost:8080/"
        },
        "id": "foK5UDssErz0",
        "outputId": "fd16c375-73fd-475f-bc94-175ac11c885e"
      },
      "execution_count": null,
      "outputs": [
        {
          "output_type": "stream",
          "name": "stdout",
          "text": [
            "225/225 [==============================] - 31s 137ms/step - loss: 1.2145 - accuracy: 0.5382\n"
          ]
        },
        {
          "output_type": "execute_result",
          "data": {
            "text/plain": [
              "[1.2144743204116821, 0.53817218542099]"
            ]
          },
          "metadata": {},
          "execution_count": 36
        }
      ]
    },
    {
      "cell_type": "code",
      "source": [
        "model_json = model_2.to_json()\n",
        "with open(\"model_2.json\", \"w\") as json_file:\n",
        "    json_file.write(model_json)\n",
        "\n",
        "# save trained model weight in .h5 file\n",
        "model_2.save_weights('model_2.h5')"
      ],
      "metadata": {
        "id": "9KKwhaSMcmxy"
      },
      "execution_count": null,
      "outputs": []
    },
    {
      "cell_type": "code",
      "source": [
        "tf.io.gfile.GFile(name='model_2.h5')"
      ],
      "metadata": {
        "colab": {
          "base_uri": "https://localhost:8080/"
        },
        "id": "RHm7DsS3euwb",
        "outputId": "70b746ef-86c0-45bd-f90e-9dab477e0e54"
      },
      "execution_count": null,
      "outputs": [
        {
          "output_type": "execute_result",
          "data": {
            "text/plain": [
              "<tensorflow.python.platform.gfile.GFile at 0x7ff7ff682950>"
            ]
          },
          "metadata": {},
          "execution_count": 38
        }
      ]
    },
    {
      "cell_type": "code",
      "source": [
        "import cv2\n",
        "import numpy as np\n",
        "from keras.models import model_from_json\n",
        "\n",
        "\n",
        "emotion_dict = {0: \"Angry\", 1: \"Disgust\", 2: \"Fear\", 3: \"Happy\", 4: \"Neutral\", 5: \"Sad\", 6: \"Surprise\"}\n",
        "\n",
        "# load json and create model\n",
        "json_file = open('model_2.json', 'r')\n",
        "loaded_model_json = json_file.read()\n",
        "json_file.close()\n",
        "emotion_model = model_from_json(loaded_model_json)\n",
        "\n",
        "# load weights into new model\n",
        "emotion_model.load_weights(\"model_2.h5\")\n",
        "print(\"Loaded model from disk\")\n",
        "\n",
        "# start the webcam feed\n",
        "cap = cv2.VideoCapture(0)\n",
        "\n",
        "\n",
        "\n",
        "while True:\n",
        "    # Find haar cascade to draw bounding box around face\n",
        "    ret, frame = cap.read()\n",
        "\n",
        "    if not ret:\n",
        "        break\n",
        "    face_detector = cv2.CascadeClassifier('haarcascades/haarcascade_frontalface_default.xml')\n",
        "    gray_frame = cv2.cvtColor(frame, cv2.COLOR_BGR2GRAY)\n",
        "\n",
        "    # detect faces available on camera\n",
        "    num_faces = face_detector.detectMultiScale(gray_frame, scaleFactor=1.3, minNeighbors=5)\n",
        "\n",
        "    # take each face available on the camera and Preprocess it\n",
        "    for (x, y, w, h) in num_faces:\n",
        "        cv2.rectangle(frame, (x, y-50), (x+w, y+h+10), (0, 255, 0), 4)\n",
        "        roi_gray_frame = gray_frame[y:y + h, x:x + w]\n",
        "        cropped_img = np.expand_dims(np.expand_dims(cv2.resize(roi_gray_frame, (48, 48)), -1), 0)\n",
        "\n",
        "        # predict the emotions\n",
        "        emotion_prediction = emotion_model.predict(cropped_img)\n",
        "        maxindex = int(np.argmax(emotion_prediction))\n",
        "        cv2.putText(frame, emotion_dict[maxindex], (x+5, y-20), cv2.FONT_HERSHEY_SIMPLEX, 1, (255, 0, 0), 2, cv2.LINE_AA)\n",
        "\n",
        "    cv2.imshow('Emotion Detection', frame)\n",
        "    if cv2.waitKey(1) & 0xFF == ord('q'):\n",
        "        break\n",
        "\n",
        "cap.release()\n",
        "cv2.destroyAllWindows()"
      ],
      "metadata": {
        "colab": {
          "base_uri": "https://localhost:8080/"
        },
        "id": "weEog2DCoYkW",
        "outputId": "4c538b06-c35d-4c72-f962-4482d4ebaa74"
      },
      "execution_count": null,
      "outputs": [
        {
          "output_type": "stream",
          "name": "stdout",
          "text": [
            "Loaded model from disk\n"
          ]
        }
      ]
    },
    {
      "cell_type": "code",
      "source": [
        "from IPython.display import display, Javascript\n",
        "from google.colab.output import eval_js\n",
        "from base64 import b64decode\n",
        "\n",
        "def take_photo(filename='photo.jpg', quality=0.8):\n",
        "  js = Javascript('''\n",
        "    async function takePhoto(quality) {\n",
        "      const div = document.createElement('div');\n",
        "      const capture = document.createElement('button');\n",
        "      capture.textContent = 'Capture';\n",
        "      div.appendChild(capture);\n",
        "\n",
        "      const video = document.createElement('video');\n",
        "      video.style.display = 'block';\n",
        "      const stream = await navigator.mediaDevices.getUserMedia({video: true});\n",
        "\n",
        "      document.body.appendChild(div);\n",
        "      div.appendChild(video);\n",
        "      video.srcObject = stream;\n",
        "      await video.play();\n",
        "\n",
        "      // Resize the output to fit the video element.\n",
        "      google.colab.output.setIframeHeight(document.documentElement.scrollHeight, true);\n",
        "\n",
        "      // Wait for Capture to be clicked.\n",
        "      await new Promise((resolve) => capture.onclick = resolve);\n",
        "\n",
        "      const canvas = document.createElement('canvas');\n",
        "      canvas.width = video.videoWidth;\n",
        "      canvas.height = video.videoHeight;\n",
        "      canvas.getContext('2d').drawImage(video, 0, 0);\n",
        "      stream.getVideoTracks()[0].stop();\n",
        "      div.remove();\n",
        "      return canvas.toDataURL('image/jpeg', quality);\n",
        "    }\n",
        "    ''')\n",
        "  display(js)\n",
        "  data = eval_js('takePhoto({})'.format(quality))\n",
        "  binary = b64decode(data.split(',')[1])\n",
        "  with open(filename, 'wb') as f:\n",
        "    f.write(binary)\n",
        "  return filename\n",
        "take_photo()"
      ],
      "metadata": {
        "colab": {
          "base_uri": "https://localhost:8080/",
          "height": 36
        },
        "id": "o_LOgqeGq3DF",
        "outputId": "3a3c3167-c702-4b41-b8bf-fa0f5b9270fe"
      },
      "execution_count": null,
      "outputs": [
        {
          "output_type": "display_data",
          "data": {
            "text/plain": [
              "<IPython.core.display.Javascript object>"
            ],
            "application/javascript": [
              "\n",
              "    async function takePhoto(quality) {\n",
              "      const div = document.createElement('div');\n",
              "      const capture = document.createElement('button');\n",
              "      capture.textContent = 'Capture';\n",
              "      div.appendChild(capture);\n",
              "\n",
              "      const video = document.createElement('video');\n",
              "      video.style.display = 'block';\n",
              "      const stream = await navigator.mediaDevices.getUserMedia({video: true});\n",
              "\n",
              "      document.body.appendChild(div);\n",
              "      div.appendChild(video);\n",
              "      video.srcObject = stream;\n",
              "      await video.play();\n",
              "\n",
              "      // Resize the output to fit the video element.\n",
              "      google.colab.output.setIframeHeight(document.documentElement.scrollHeight, true);\n",
              "\n",
              "      // Wait for Capture to be clicked.\n",
              "      await new Promise((resolve) => capture.onclick = resolve);\n",
              "\n",
              "      const canvas = document.createElement('canvas');\n",
              "      canvas.width = video.videoWidth;\n",
              "      canvas.height = video.videoHeight;\n",
              "      canvas.getContext('2d').drawImage(video, 0, 0);\n",
              "      stream.getVideoTracks()[0].stop();\n",
              "      div.remove();\n",
              "      return canvas.toDataURL('image/jpeg', quality);\n",
              "    }\n",
              "    "
            ]
          },
          "metadata": {}
        },
        {
          "output_type": "execute_result",
          "data": {
            "text/plain": [
              "'photo.jpg'"
            ],
            "application/vnd.google.colaboratory.intrinsic+json": {
              "type": "string"
            }
          },
          "metadata": {},
          "execution_count": 89
        }
      ]
    },
    {
      "cell_type": "code",
      "source": [
        "model_2.save_weights('model_2.h5')\n",
        "model_2.save('model_2.h5')"
      ],
      "metadata": {
        "id": "tetldJGEdVFR"
      },
      "execution_count": null,
      "outputs": []
    },
    {
      "cell_type": "code",
      "source": [
        "emotion_dict = {0: \"Angry\", 1: \"Disgusted\", 2: \"Fearful\", 3: \"Happy\", 4: \"Neutral\", 5: \"Sad\", 6: \"Surprised\"}\n",
        "\n",
        "    # start the webcam feed\n",
        "cap = cv2.VideoCapture('photo.jpg')\n",
        "while True:\n",
        "        # Find haar cascade to draw bounding box around face\n",
        "   ret, frame = cap.read()\n",
        "   if not ret:\n",
        "     break\n",
        "   facecasc = cv2.CascadeClassifier(cv2.data.haarcascades+'haarcascade_frontalface_default.xml')\n",
        "   gray = cv2.cvtColor(frame, cv2.COLOR_BGR2GRAY)\n",
        "   faces = facecasc.detectMultiScale(gray,scaleFactor=1.3, minNeighbors=5)\n",
        "\n",
        "   for (x, y, w, h) in faces:\n",
        "      cv2.rectangle(frame, (x, y-50), (x+w, y+h+10), (255, 0, 0), 2)\n",
        "      roi_gray = gray[y:y + h, x:x + w]\n",
        "      cropped_img = np.expand_dims(np.expand_dims(cv2.resize(roi_gray, (48, 48)), -1), 0)\n",
        "      prediction = model.predict(cropped_img)\n",
        "      maxindex = int(np.argmax(prediction))\n",
        "      cv2.putText(frame, emotion_dict[maxindex], (x+20, y-60), cv2.FONT_HERSHEY_SIMPLEX, 1, (255, 255, 255), 2, cv2.LINE_AA)\n",
        "\n",
        "      cv2.imshow('Video', cv2.resize(frame,(1600,960),interpolation = cv2.INTER_CUBIC))\n",
        "      if cv2.waitKey(1) & 0xFF == ord('q'):\n",
        "         break\n",
        "\n",
        "cap.release()\n",
        "cv2.destroyAllWindows()"
      ],
      "metadata": {
        "id": "Otlm_v2CtvSB"
      },
      "execution_count": null,
      "outputs": []
    },
    {
      "cell_type": "code",
      "source": [
        "import cv2\n",
        "from google.colab.patches import cv2_imshow\n",
        "face_cascade=cv2.CascadeClassifier(cv2.data.haarcascades + \"haarcascade_frontalface_default.xml\") #Note the change\n",
        "\n",
        "emotion_dict = {0: \"Angry\", 1: \"Disgusted\", 2: \"Fearful\", 3: \"Happy\", 4: \"Neutral\", 5: \"Sad\", 6: \"Surprised\"}\n",
        "\n",
        "img = cv2.imread(\"photo.jpg\")\n",
        "img.reshape((48,48,3))\n",
        "gray_img=cv2.cvtColor(img,cv2.COLOR_BGR2GRAY)\n",
        "\n",
        "faces=face_cascade.detectMultiScale(gray_img, scaleFactor=1.05,minNeighbors=5)\n",
        "\n",
        "for x, y, w, h in faces:\n",
        "    cv2.rectangle(img, (x, y-50), (x+w, y+h+10), (255, 0, 0), 2)\n",
        "    prediction = model_2.predict(img)\n",
        "    maxindex = int(np.argmax(prediction))\n",
        "    cv2.putText(frame, emotion_dict[maxindex], (x+20, y-60), cv2.FONT_HERSHEY_SIMPLEX, 1, (255, 255, 255), 2, cv2.LINE_AA)\n",
        "resized=cv2.resize(img,(int(img.shape[1]/3), int(img.shape[0]/3))) \n",
        "\n",
        "cv2_imshow(resized)\n",
        "cv2.waitKey(0)\n",
        "cv2.destroyAllWindows()"
      ],
      "metadata": {
        "colab": {
          "base_uri": "https://localhost:8080/",
          "height": 242
        },
        "id": "c_cskGmGuK7Q",
        "outputId": "18a7bc23-8a07-4479-f9bb-6c420194d5f0"
      },
      "execution_count": null,
      "outputs": [
        {
          "output_type": "error",
          "ename": "ValueError",
          "evalue": "ignored",
          "traceback": [
            "\u001b[0;31m---------------------------------------------------------------------------\u001b[0m",
            "\u001b[0;31mValueError\u001b[0m                                Traceback (most recent call last)",
            "\u001b[0;32m<ipython-input-106-453d7262ea44>\u001b[0m in \u001b[0;36m<module>\u001b[0;34m\u001b[0m\n\u001b[1;32m      6\u001b[0m \u001b[0;34m\u001b[0m\u001b[0m\n\u001b[1;32m      7\u001b[0m \u001b[0mimg\u001b[0m \u001b[0;34m=\u001b[0m \u001b[0mcv2\u001b[0m\u001b[0;34m.\u001b[0m\u001b[0mimread\u001b[0m\u001b[0;34m(\u001b[0m\u001b[0;34m\"photo.jpg\"\u001b[0m\u001b[0;34m)\u001b[0m\u001b[0;34m\u001b[0m\u001b[0;34m\u001b[0m\u001b[0m\n\u001b[0;32m----> 8\u001b[0;31m \u001b[0mimg\u001b[0m\u001b[0;34m.\u001b[0m\u001b[0mreshape\u001b[0m\u001b[0;34m(\u001b[0m\u001b[0;34m(\u001b[0m\u001b[0;36m48\u001b[0m\u001b[0;34m,\u001b[0m\u001b[0;36m48\u001b[0m\u001b[0;34m,\u001b[0m\u001b[0;36m3\u001b[0m\u001b[0;34m)\u001b[0m\u001b[0;34m)\u001b[0m\u001b[0;34m\u001b[0m\u001b[0;34m\u001b[0m\u001b[0m\n\u001b[0m\u001b[1;32m      9\u001b[0m \u001b[0mgray_img\u001b[0m\u001b[0;34m=\u001b[0m\u001b[0mcv2\u001b[0m\u001b[0;34m.\u001b[0m\u001b[0mcvtColor\u001b[0m\u001b[0;34m(\u001b[0m\u001b[0mimg\u001b[0m\u001b[0;34m,\u001b[0m\u001b[0mcv2\u001b[0m\u001b[0;34m.\u001b[0m\u001b[0mCOLOR_BGR2GRAY\u001b[0m\u001b[0;34m)\u001b[0m\u001b[0;34m\u001b[0m\u001b[0;34m\u001b[0m\u001b[0m\n\u001b[1;32m     10\u001b[0m \u001b[0;34m\u001b[0m\u001b[0m\n",
            "\u001b[0;31mValueError\u001b[0m: cannot reshape array of size 921600 into shape (48,48,3)"
          ]
        }
      ]
    },
    {
      "cell_type": "code",
      "source": [],
      "metadata": {
        "id": "VqUmpeYOvKFy"
      },
      "execution_count": null,
      "outputs": []
    }
  ]
}